{
 "cells": [
  {
   "cell_type": "markdown",
   "metadata": {},
   "source": [
    "## Defining a class\n",
    "Defining a class is very simple by just using the syntax 'self' before attributes. __init__ methods automatically calls the poetry function so no initialisation required separately.\n"
   ]
  },
  {
   "cell_type": "code",
   "execution_count": 1,
   "metadata": {},
   "outputs": [
    {
     "name": "stdout",
     "output_type": "stream",
     "text": [
      "Harris\n",
      "311\n",
      "Ham\n"
     ]
    }
   ],
   "source": [
    "class Poetry():\n",
    "    def __init__(self, title, poems_count, author, price):\n",
    "        self.title = title\n",
    "        self.poems_count = poems_count\n",
    "        self.author = author\n",
    "        self.price = price\n",
    "        \n",
    "        \n",
    "poem1 = Poetry('Hello','567', 'Harris','899')\n",
    "poem2 = Poetry('Hi','445', 'Phillip','311')\n",
    "poem3 = Poetry('Ham','363', 'Kamry','455')\n",
    "\n",
    "\n",
    "print(poem1.author)\n",
    "print(poem2.price)\n",
    "print(poem3.title)"
   ]
  },
  {
   "cell_type": "markdown",
   "metadata": {},
   "source": [
    "## Encapsulation\n",
    "\n",
    "Encapsulation is the process of making certain attributes inaccessible to their clients and can only be accessed through certain methods. The inaccessible attributes are called private attributes, and the process of making certain attributes private is called information hiding. Private attributes begin with two underscores."
   ]
  },
  {
   "cell_type": "code",
   "execution_count": 2,
   "metadata": {},
   "outputs": [
    {
     "name": "stdout",
     "output_type": "stream",
     "text": [
      "Hello by Harris, price is 899\n"
     ]
    }
   ],
   "source": [
    "class Poetry():\n",
    "    \n",
    "   def __init__(self, title, poems_count, author, price):\n",
    "     self.title = title\n",
    "     self.poems_count = poems_count\n",
    "     self.author = author\n",
    "     self.price = price\n",
    "     self.__discount = 0.20 \n",
    "        \n",
    "   def describe_poetry(self):\n",
    "     print(f\"{self.title} by {self.author}, price is {self.price}\")\n",
    "      \n",
    "    \n",
    "poem = Poetry('Hello','567', 'Harris','899')\n",
    "poem.describe_poetry()"
   ]
  },
  {
   "cell_type": "markdown",
   "metadata": {},
   "source": [
    "## Inheritance\n",
    "\n",
    "Inheritance is considered the most important feature in an OOPS. Inheritance is the ability of a class to inherit methods and/or attributes of another class. The inheriting class is called the subclass or the child class. The class from which methods and/or attributes are inherited is called the superclass or the parent class."
   ]
  },
  {
   "cell_type": "code",
   "execution_count": 3,
   "metadata": {},
   "outputs": [],
   "source": [
    " class Book():\n",
    "   def __init__(self, title, author, price):\n",
    "     self.title = title\n",
    "     self.author = author\n",
    "     self.price = price\n",
    "     self.discount = None\n",
    "\n",
    "   def set_discount(self, value):\n",
    "     self.discount = value\n",
    "\n",
    "   def get_price(self):\n",
    "     if self.discount is None:\n",
    "       return self.price\n",
    "     else:\n",
    "       return self.price * (1 - self.discount) \n",
    "\n",
    "\n",
    "# Class Book is child class of Poetry (Poetry is the parent class)\n",
    " class Poetry(Book):\n",
    "        \n",
    "   def __init__(self, title, poems_count, author, price):\n",
    "     super().__init__(title, author, price)\n",
    "     self.poems_count = poems_count\n",
    "\n",
    "   def describe_poetry(self):\n",
    "     print(f\"{self.title} by {self.author}, price {self.get_price()}\")  "
   ]
  },
  {
   "cell_type": "code",
   "execution_count": 4,
   "metadata": {},
   "outputs": [
    {
     "name": "stdout",
     "output_type": "stream",
     "text": [
      "Sun in the well by Kamry, price 965\n",
      "Sun in the well by Kamry, price 820.25\n"
     ]
    }
   ],
   "source": [
    "poem_1 = Poetry('Sun in the well', 456, 'Kamry', 965)\n",
    "poem_1.describe_poetry()\n",
    "poem_1.set_discount(0.15)\n",
    "poem_1.describe_poetry()"
   ]
  },
  {
   "cell_type": "markdown",
   "metadata": {},
   "source": [
    "## Polymorphism\n",
    "\n",
    "The word ‘polymorphism’ is derived from the Greek language, meaning ‘something that takes different forms’. Polymorphism is a subclass’s ability to customize a method as per need that is already present in its superclass. In other words, a subclass may either use a method in its superclass as such or modify it suitably whenever required."
   ]
  },
  {
   "cell_type": "code",
   "execution_count": 5,
   "metadata": {},
   "outputs": [],
   "source": [
    " class Book():\n",
    "   def __init__(self, title, author, price):\n",
    "     self.title = title\n",
    "     self.author = author\n",
    "     self.price = price\n",
    "     self.discount = None\n",
    "\n",
    "   def set_discount(self, value):\n",
    "     self.discount = value\n",
    "\n",
    "   def get_price(self):\n",
    "     if self.discount is None:\n",
    "       return self.price\n",
    "     else:\n",
    "       return self.price * (1 - self.discount)\n",
    "\n",
    "   def describe_poetry(self):\n",
    "     print(f'{self.title} by {self.author}, price {self.get_price()}') \n",
    "\n",
    " class Poetry(Book):\n",
    "   def __init__(self, title, poems_count, author, price):\n",
    "     super().__init__(title, author, price)\n",
    "     self.poems_count = poems_count\n",
    "\n",
    " class Play(Book):\n",
    "   def __init__(self, title, genre, author, price):\n",
    "     super().__init__(title, author, price)\n",
    "     self.genre = genre\n",
    "\n",
    "   def describe_poetry_play_book(self):\n",
    "     print(f'{self.genre} Play: {self.title} by {self.author}, price {self.get_price()}') \n",
    "\n",
    " class Novel(Book):\n",
    "   def __init__(self, title, pages, author, price):\n",
    "     super().__init__(title, author, price)\n",
    "     self.pages = pages "
   ]
  },
  {
   "cell_type": "code",
   "execution_count": 6,
   "metadata": {},
   "outputs": [],
   "source": [
    "poem_2 = Poetry('Choco in house', 56, 'Raut', 654)\n",
    "play_2 = Play('An immense behaviour', 'Comedy', 'Super  K grey', 523)\n",
    "novel_2 = Novel('Time machine',65, 'Kevin', 845)"
   ]
  },
  {
   "cell_type": "code",
   "execution_count": 7,
   "metadata": {},
   "outputs": [
    {
     "name": "stdout",
     "output_type": "stream",
     "text": [
      "Choco in house by Raut, price 654\n",
      "Comedy Play: An immense behaviour by Super  K grey, price 523\n"
     ]
    }
   ],
   "source": [
    "poem_2.describe_poetry()\n",
    "play_2.describe_poetry_play_book()"
   ]
  },
  {
   "cell_type": "markdown",
   "metadata": {},
   "source": [
    "## Abstraction\n",
    "\n",
    "Python does not have a direct support for abstraction. However, abstraction is enabled by calling a magic method. If a method in a superclass is declared to be an abstract method, subclasses that inherit from the superclass must have their own versions of the said method. An abstract method in a superclass will never be invoked by its subclasses. But, the abstraction helps maintain a certain common structure in all of the subclasses. "
   ]
  },
  {
   "cell_type": "code",
   "execution_count": 8,
   "metadata": {},
   "outputs": [],
   "source": [
    "from abc import ABC, abstractmethod\n",
    "\n",
    "class Book(ABC):\n",
    "   def __init__(self, title, author, price):\n",
    "     self.title = title\n",
    "     self.author = author\n",
    "     self.price = price\n",
    "     self.discount = None\n",
    "\n",
    "   def set_discount(self, value):\n",
    "     self.discount = value\n",
    "\n",
    "   def get_price(self):\n",
    "     if self.discount is None:\n",
    "       return self.price\n",
    "     else:\n",
    "       return self.price * (1 - self.discount)\n",
    "\n",
    "   \n",
    "   def describe_poetry(self):\n",
    "     print(f'{self.title} by {self.author}, price {self.get_price()}') \n",
    "\n",
    "class Poetry(Book):\n",
    "   def __init__(self, title, poems_count, author, price):\n",
    "     super().__init__(title, author, price)\n",
    "     self.poems_count = poems_count\n",
    "\n",
    "   def describe_poetry_book(self):\n",
    "     print(f'Poetry: {self.title} by {self.author}, {self.poems_count} poems, price {self.get_price()}') \n",
    "\n",
    "class Play(Book):\n",
    "   def __init__(self, title, genre, author, price):\n",
    "     super().__init__(title, author, price)\n",
    "     self.genre = genre\n",
    "\n",
    "   def describe_poetry_play_book(self):\n",
    "     print(f'Play: {self.title} by {self.author}, {self.genre} genre, price {self.get_price()}') \n",
    "\n",
    "class Novel(Book):\n",
    "   def __init__(self, title, pages, author, price):\n",
    "     super().__init__(title, author, price)\n",
    "     self.pages = pages\n",
    "\n",
    "   def describe_poetry_novel_book(self):\n",
    "     print(f'Novel: {self.title} by {self.author}, {self.pages} pages, price {self.get_price()}') "
   ]
  },
  {
   "cell_type": "code",
   "execution_count": 9,
   "metadata": {},
   "outputs": [
    {
     "name": "stdout",
     "output_type": "stream",
     "text": [
      "Hell is no where by K. Smith, price 50\n",
      "Play: No where to heaven by Benjamin, Cycic genre, price 60\n",
      "Novel: Come on man by Christ, 85 pages, price 63\n"
     ]
    }
   ],
   "source": [
    "poem_3 = Poetry('Hell is no where', 33, 'K. Smith', 50)\n",
    "play_3 = Play('No where to heaven', 'Cycic', 'Benjamin', 60)\n",
    "novel_3 = Novel('Come on man', 85, 'Christ', 63)\n",
    " \n",
    "poem_3.describe_poetry()\n",
    "play_3.describe_poetry_play_book()\n",
    "novel_3.describe_poetry_novel_book()"
   ]
  }
 ],
 "metadata": {
  "kernelspec": {
   "display_name": "Python 3",
   "language": "python",
   "name": "python3"
  },
  "language_info": {
   "codemirror_mode": {
    "name": "ipython",
    "version": 3
   },
   "file_extension": ".py",
   "mimetype": "text/x-python",
   "name": "python",
   "nbconvert_exporter": "python",
   "pygments_lexer": "ipython3",
   "version": "3.8.5"
  }
 },
 "nbformat": 4,
 "nbformat_minor": 4
}
